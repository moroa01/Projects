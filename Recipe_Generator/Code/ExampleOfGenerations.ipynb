{
 "cells": [
  {
   "cell_type": "markdown",
   "id": "99e0ae3f",
   "metadata": {},
   "source": [
    "# Some examples of generation from test set"
   ]
  },
  {
   "cell_type": "code",
   "execution_count": null,
   "id": "8d0070d5",
   "metadata": {},
   "outputs": [],
   "source": [
    "import pandas as pd\n",
    "import torch\n",
    "from transformers import T5Tokenizer, T5ForConditionalGeneration"
   ]
  },
  {
   "cell_type": "code",
   "execution_count": null,
   "id": "e5cfa54f",
   "metadata": {
    "scrolled": false
   },
   "outputs": [],
   "source": [
    "model_name= \"moro01525/T5_FineTuning\"\n",
    "tokenizer = T5Tokenizer.from_pretrained(\"t5-small\")\n",
    "model = T5ForConditionalGeneration.from_pretrained(model_name)"
   ]
  },
  {
   "cell_type": "code",
   "execution_count": null,
   "id": "10efefce",
   "metadata": {},
   "outputs": [],
   "source": [
    "final = pd.read_csv(\"recipes.csv\").drop(columns=[\"Unnamed: 0\"])\n",
    "final['ingredients'] = 'Ingredients: ' + final['ingredients']"
   ]
  },
  {
   "cell_type": "code",
   "execution_count": null,
   "id": "4efca08d",
   "metadata": {},
   "outputs": [],
   "source": [
    "from datasets import Dataset\n",
    "test = final[100000:101000]"
   ]
  },
  {
   "cell_type": "code",
   "execution_count": null,
   "id": "57fa1c1b",
   "metadata": {},
   "outputs": [],
   "source": [
    "def generate_recipe(model, ingredients):\n",
    "    input_text = f\"Ingredients: {ingredients}\"\n",
    "    input_ids = tokenizer.encode(input_text, return_tensors=\"pt\")\n",
    "\n",
    "    outputs = model.generate(input_ids, max_length=200, num_beams=5, repetition_penalty=1.5, no_repeat_ngram_size=2, temperature=0.4, top_p=0.8, do_sample=True)\n",
    "    recipe = tokenizer.decode(outputs[0], skip_special_tokens=True)\n",
    "    return recipe"
   ]
  },
  {
   "cell_type": "markdown",
   "id": "0d4fd70f",
   "metadata": {},
   "source": [
    "# The layout of the print is:\n",
    "*   ### Ingredients (input)\n",
    "*   ### Generated recipe (generated output)\n",
    "*   ### Expected output"
   ]
  },
  {
   "cell_type": "code",
   "execution_count": 14,
   "id": "149d585e",
   "metadata": {},
   "outputs": [
    {
     "name": "stdout",
     "output_type": "stream",
     "text": [
      "Ingredients: cabbage, butter, bacon drippings, garlic, caraway seed, salt, pepper, cream of mushroom soup \n",
      "\n",
      "preheat oven to 350f; in a large skillet, melt butter over medium-high heat; add bacon drippings and saute for 5 minutes; stir in garlic and caraway seeds; bring to boil; reduce heat and simmer for 10 minutes or until cabbage is tender; remove from heat & let cool; serve with soup \n",
      "\n",
      "melt butter and bacon drippings in large saucepan or dutch oven; add cabbage; cook and stir over medium heat until cabbage is tender / crisp , about 10 minutes; add garlic , caraway seeds , salt and pepper; stir in soup; heat through and serve \n",
      "------------------------------------------------------------------------------------------------------------------------------\n",
      "Ingredients: vegetable oil, eggs, smoked salmon, cream cheese, green onion \n",
      "\n",
      "heat oil in a large skillet over medium-high heat; add eggs and saute for 5 minutes; stir in salmon, cream cheese and green onion \n",
      "\n",
      "heat oil in a large skillet over medium heat; combine eggs and salmon and cook until soft; add cream cheese and mix until smooth texture , add 1 / 4 cup green onions and scramble; serve on plates and garnish with the remaining 1 / 4 cup green onions \n",
      "------------------------------------------------------------------------------------------------------------------------------\n",
      "Ingredients: flour, butter, sugar \n",
      "\n",
      "preheat oven to 350 degrees; in a large bowl, combine flour and butter; add sugar; mix well; pour into greased 9x13 baking dish; bake at 350f for 30 minutes or until golden brown \n",
      "\n",
      "mix evenly , make into crumbly\"dough\"; grease pan , put in some fruit or berries; pour crumbly mixture over fruit or berries; bake 450f for 25 minutes , or until golden brown; serve with whipped cream or swedish\"vaniljss\" \n",
      "------------------------------------------------------------------------------------------------------------------------------\n",
      "Ingredients: eggs, heavy cream, salt, chives, smoked salmon, water, milk, butter, flour \n",
      "\n",
      "preheat oven to 350f; mix eggs, cream and salt in a large bowl; add chives and water; bring to boil; reduce heat and simmer for 5 minutes; remove from heat; stir in milk and butter; pour into prepared pan; bake at 400f for 30 minutes or until golden brown \n",
      "\n",
      "popovers: beat 3 eggs lightly; add milk , melted butter , flour and salt; mix until smooth; fill popover pans; bake for 15 minutes at 450; and then brown for 25-30 minutes at 325 degrees; while popovers are baking , bring water to a boil in saucepan; place metal bowl over water and reduce heat to low; combine 8 eggs , heavy cream salt and chives in blender; blend well; cook mixture in bowl until cooked through; remove tops from popovers and fill with creamy egg mixture; place a slice of smoked salmon on each popover; i serve them 3 to a plate with extra creamy eggs dripping onto the plate \n",
      "------------------------------------------------------------------------------------------------------------------------------\n",
      "Ingredients: sesame oil, butter, onion, scallions, fresh gingerroot, long-grain rice, chicken broth, salt, snow peas, sesame seeds \n",
      "\n",
      "heat oil and butter in a large skillet over medium-high heat; add onion, scallions and ginger; cook for 5 minutes or until onions are tender; stir in rice and broth; bring to boil; reduce heat and simmer for 10 minutes; remove from heat if necessary; serve with sesame seeds \n",
      "\n",
      "in a microwave-safe bowl , combine oil , butter , onion , scallions and gingerroot and microwave at high power for 2 minutes , or until onion is softened; stir in rice to coat with oil and butter , add broth and microwave , covered with plastic wrap at high for 5 minutes; microwave at medium power for 12-15 minutes , or until all liquid is absorbed and rice is tender; uncover and stir in snow peas; let stand , covered , for 5 minutes and stir in sesame seeds \n",
      "------------------------------------------------------------------------------------------------------------------------------\n",
      "Ingredients: crispix cereal, bugles original flavor snacks, ritz bits mini peanut butter crackers, ritz bits mini cheese crackers, mixed nuts, shoestring potatoes, small pretzels, vegetable crackers, cashews, goldfish crackers, butter-flavored oil, hidden valley ranch dressing mix, dill weed, garlic powder \n",
      "\n",
      "preheat oven to 350f; in a large bowl, combine the cereal and bugles; stir in the peanut butter crackers and nuts; add the potatoes and pretzels and mix well; set aside; heat the oil over medium-high heat; cook for 5 minutes or until crispix is tender; remove from heat and let stand 10 minutes before serving; serve warm with dill weed and garlic powder \n",
      "\n",
      "put all ingredients listed prior to the popcorn oil into a white kitchen wastebasket size garbage bag and shake gently; mix together the last four ingredients and pour over the dry ingredients in the bag; store and shake occasionally for 48 hours before serving; supposedly can be frozen in freezer ziploc bags; i have never done that \n",
      "------------------------------------------------------------------------------------------------------------------------------\n"
     ]
    }
   ],
   "source": [
    "import random\n",
    "for i in range(0, 6):\n",
    "    index = random.randint(0, 1000)\n",
    "    index += 100000\n",
    "    input = test.loc[index][\"ingredients\"]\n",
    "    output = test.loc[index][\"steps\"]\n",
    "    predict = generate_recipe(model, input)\n",
    "\n",
    "    print(input, \"\\n\")\n",
    "    print(predict, \"\\n\")\n",
    "    print(output, \"\\n------------------------------------------------------------------------------------------------------------------------------\")"
   ]
  }
 ],
 "metadata": {
  "kernelspec": {
   "display_name": "Python 3 (ipykernel)",
   "language": "python",
   "name": "python3"
  },
  "language_info": {
   "codemirror_mode": {
    "name": "ipython",
    "version": 3
   },
   "file_extension": ".py",
   "mimetype": "text/x-python",
   "name": "python",
   "nbconvert_exporter": "python",
   "pygments_lexer": "ipython3",
   "version": "3.9.7"
  }
 },
 "nbformat": 4,
 "nbformat_minor": 5
}
