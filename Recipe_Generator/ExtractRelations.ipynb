{
  "nbformat": 4,
  "nbformat_minor": 0,
  "metadata": {
    "colab": {
      "provenance": []
    },
    "kernelspec": {
      "name": "python3",
      "display_name": "Python 3"
    },
    "language_info": {
      "name": "python"
    }
  },
  "cells": [
    {
      "cell_type": "code",
      "execution_count": null,
      "metadata": {
        "id": "2J3iV9_ir0O6"
      },
      "outputs": [],
      "source": [
        "import pandas as pd\n",
        "from google.colab import drive\n",
        "drive.mount(\"/content/drive\")"
      ]
    },
    {
      "cell_type": "code",
      "source": [
        "mydir = \"/content/drive/MyDrive/Dataset/\""
      ],
      "metadata": {
        "id": "xMecNyPb124Z"
      },
      "execution_count": null,
      "outputs": []
    },
    {
      "cell_type": "code",
      "source": [
        "df = pd.read_csv(mydir + \"RAW_recipes.csv\")"
      ],
      "metadata": {
        "id": "Tr7ycLY_sDr5"
      },
      "execution_count": null,
      "outputs": []
    },
    {
      "cell_type": "code",
      "source": [
        "import spacy\n",
        "nlp = spacy.load(\"en_core_web_sm\")\n",
        "\n",
        "#This function extract all the direct object in relation of a VERB\n",
        "def extract_relations(recipe_text):\n",
        "    doc = nlp(recipe_text)\n",
        "    relations = []\n",
        "    for sent in doc.sents:\n",
        "        for token in sent:\n",
        "            if token.pos_ == \"VERB\" and any([child.dep_ == \"dobj\" for child in token.children]):\n",
        "                verb = token.lemma_\n",
        "                ingredients = [child.lemma_ for child in token.children if child.dep_ == \"dobj\"]\n",
        "                for ingredient in ingredients:\n",
        "                    relations.append((ingredient, verb))\n",
        "    return relations"
      ],
      "metadata": {
        "id": "btDkl2L1sQ-b"
      },
      "execution_count": null,
      "outputs": []
    },
    {
      "cell_type": "code",
      "source": [
        "relation_dict = defaultdict(list)\n",
        "\n",
        "#Here I extracted all the VERB relations in 200k rows from the recipes dataset\n",
        "for steps in df[\"steps\"][:200000]:\n",
        "    recipe = steps[2:-2]\n",
        "    relations = extract_relations(recipe)\n",
        "    for ingredient, method in relations:\n",
        "        relation_dict[ingredient].append(method)"
      ],
      "metadata": {
        "id": "oPvg7o4nxlCf"
      },
      "execution_count": null,
      "outputs": []
    },
    {
      "cell_type": "code",
      "source": [
        "#Here I counted the number of times a VERB is referred to an object\n",
        "for ingredient in relation_dict:\n",
        "    relation_dict[ingredient] = {method: relation_dict[ingredient].count(method) for method in set(relation_dict[ingredient])}"
      ],
      "metadata": {
        "id": "abloQbqyyoWN"
      },
      "execution_count": null,
      "outputs": []
    },
    {
      "cell_type": "code",
      "source": [
        "#I used the library 'pickle' to save the dictionary\n",
        "import pickle\n",
        "with open(mydir + \"relation_dict_completo.pkl\", \"wb\") as f:\n",
        "    pickle.dump(relation_dict, f)"
      ],
      "metadata": {
        "id": "dbQJVrqjxvrs"
      },
      "execution_count": null,
      "outputs": []
    },
    {
      "cell_type": "code",
      "source": [
        "import pickle\n",
        "x = open(mydir + \"relation_dict_completo.pkl\",'rb')\n",
        "relation_dict = pickle.load(x)"
      ],
      "metadata": {
        "id": "2JptFsh5TsMT"
      },
      "execution_count": null,
      "outputs": []
    },
    {
      "cell_type": "markdown",
      "source": [
        "##To get a better analysis I searched for the most used Verbs in the dataset for all the object"
      ],
      "metadata": {
        "id": "TSWCJ9igFGNm"
      }
    },
    {
      "cell_type": "code",
      "source": [
        "from collections import defaultdict\n",
        "all_relation = defaultdict(list)\n",
        "\n",
        "for ingredient in relation_dict:\n",
        "  verbs = relation_dict[ingredient]\n",
        "  for verb in verbs:\n",
        "    for i in range(0, relation_dict[ingredient][verb]):\n",
        "      all_relation[0].append(verb)"
      ],
      "metadata": {
        "id": "TZd-wpSVXvcA"
      },
      "execution_count": null,
      "outputs": []
    },
    {
      "cell_type": "code",
      "source": [
        "all_relation[0] = {method: all_relation[0].count(method) for method in set(all_relation[0])}"
      ],
      "metadata": {
        "id": "DtjEj4NmVcQp"
      },
      "execution_count": null,
      "outputs": []
    },
    {
      "cell_type": "code",
      "source": [
        "#Print the 15 most used Verbs and how much times are used\n",
        "sorted(all_relation[0].items(), key=lambda x: x[1], reverse=True)[:15]"
      ],
      "metadata": {
        "colab": {
          "base_uri": "https://localhost:8080/"
        },
        "id": "uMLZ7u58Wl18",
        "outputId": "78b117af-3f16-4d24-83a3-fb49174b006a"
      },
      "execution_count": null,
      "outputs": [
        {
          "output_type": "execute_result",
          "data": {
            "text/plain": [
              "[('add', 345964),\n",
              " ('combine', 101662),\n",
              " ('mix', 66252),\n",
              " ('stir', 59915),\n",
              " ('cook', 54499),\n",
              " ('remove', 50831),\n",
              " ('use', 49900),\n",
              " ('preheat', 48331),\n",
              " ('cut', 44102),\n",
              " ('bake', 42462),\n",
              " ('bring', 40230),\n",
              " ('put', 37588),\n",
              " ('place', 35116),\n",
              " ('make', 28587),\n",
              " ('sprinkle', 27231)]"
            ]
          },
          "metadata": {},
          "execution_count": 107
        }
      ]
    }
  ]
}