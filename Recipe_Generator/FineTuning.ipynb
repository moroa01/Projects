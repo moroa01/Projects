{
  "cells": [
    {
      "cell_type": "code",
      "execution_count": null,
      "metadata": {
        "id": "HQez_tlq9Uig"
      },
      "outputs": [],
      "source": [
        "!pip install transformers\n",
        "!pip install torch\n",
        "!pip install datasets"
      ]
    },
    {
      "cell_type": "code",
      "execution_count": null,
      "metadata": {
        "id": "myoOGY2m9bCq"
      },
      "outputs": [],
      "source": [
        "import pandas as pd\n",
        "from google.colab import drive\n",
        "drive.mount(\"/content/drive\")"
      ]
    },
    {
      "cell_type": "code",
      "source": [
        "mydir = \"/content/drive/MyDrive/Dataset/\""
      ],
      "metadata": {
        "id": "8E43sbHm2r8c"
      },
      "execution_count": null,
      "outputs": []
    },
    {
      "cell_type": "markdown",
      "source": [
        "##First thing I created the dataset for the fine-tuning\n",
        "###For that I used the dataset with the recipes and the preparation steps and the dataset with the ratings"
      ],
      "metadata": {
        "id": "53UnRNQZ3iy6"
      }
    },
    {
      "cell_type": "code",
      "execution_count": null,
      "metadata": {
        "id": "aPKpgnEK-nBA"
      },
      "outputs": [],
      "source": [
        "step = pd.read_csv(mydir + \"RAW_recipes.csv\")\n",
        "rew = pd.read_csv(mydir + \"RAW_interactions.csv\")"
      ]
    },
    {
      "cell_type": "code",
      "execution_count": null,
      "metadata": {
        "id": "EO1typki-qHI"
      },
      "outputs": [],
      "source": [
        "rew = rew.drop(columns=['user_id', 'date', 'review'])\n",
        "step = step.drop(columns=['name', 'minutes', 'contributor_id', 'submitted', 'tags', 'nutrition', 'n_steps', 'description', 'n_ingredients'])\n",
        "df = step[:200000]"
      ]
    },
    {
      "cell_type": "code",
      "execution_count": null,
      "metadata": {
        "colab": {
          "base_uri": "https://localhost:8080/"
        },
        "id": "aPrlRrtN-svD",
        "outputId": "29a15a8f-dad2-4258-b368-c1bbe7528721"
      },
      "outputs": [
        {
          "data": {
            "text/plain": [
              "200000"
            ]
          },
          "execution_count": 26,
          "metadata": {},
          "output_type": "execute_result"
        }
      ],
      "source": [
        "final = df\n",
        "final.insert(3, \"rating\", 0)\n",
        "len(final)"
      ]
    },
    {
      "cell_type": "code",
      "execution_count": null,
      "metadata": {
        "id": "vxaemY0h-4R5"
      },
      "outputs": [],
      "source": [
        "#Here I matched the id of every recipe to the ratings dataset and I associated the mean of the ratings\n",
        "for index in df[\"id\"]:\n",
        "  sum = 0\n",
        "  count = 0\n",
        "  for rating in rew[rew[\"recipe_id\"]==index][\"rating\"]:\n",
        "    sum += rating\n",
        "    count += 1\n",
        "  if(count>0):\n",
        "    final.loc[final[\"id\"]==index, 'rating'] = float(sum/count)"
      ]
    },
    {
      "cell_type": "code",
      "execution_count": null,
      "metadata": {
        "id": "jflOE6H9x9qS"
      },
      "outputs": [],
      "source": [
        "final.to_csv(\"mydir + \"finetuning.csv\")"
      ]
    },
    {
      "cell_type": "code",
      "execution_count": null,
      "metadata": {
        "id": "KUh2XVUnAgXv"
      },
      "outputs": [],
      "source": [
        "def is_valid_sentence(i):\n",
        "  if( (i[0]==\" \") or (i[1]==\" \") or i[0]==\",\" or i[0]=='\"' or i[1]=='\"' or i[0]==\":\" or i[0]==\"-\" or i[-1]==\"-\" or i[-1]==\" \"):\n",
        "    return False\n",
        "  return '?' not in i and '!' not in i and '~' not in i"
      ]
    },
    {
      "cell_type": "code",
      "execution_count": null,
      "metadata": {
        "id": "blpgIw6uCgcw"
      },
      "outputs": [],
      "source": [
        "#This is to drop the rows with noisy sentences\n",
        "#The extra variable is to check the operation\n",
        "start = 0\n",
        "end = 170000\n",
        "dropped = 0\n",
        "modified = 0\n",
        "for i in range(start, end):\n",
        "  print(\"Actual: \", i, \" Dropped: \", dropped, \" Modified: \", modified)\n",
        "  x = final.loc[i][\"steps\"]\n",
        "  lista = x[1:-2].split(\"', \")\n",
        "  newList = []\n",
        "  isOk = True\n",
        "  for s in lista:\n",
        "    z = len(s.split(\" \"))\n",
        "    if(z<=1 or z>=30):\n",
        "      isOk = False\n",
        "      break\n",
        "    if(not is_valid_sentence(s)):\n",
        "      isOk = False\n",
        "      break\n",
        "    newList.append(s[1:])\n",
        "  if(isOk == True):\n",
        "    a = \"; \".join(newList)              #Every step is separated with the separator ';'\n",
        "    final.loc[i, \"steps\"] = a\n",
        "    modified += 1\n",
        "  else:\n",
        "    final = final.drop(index=i)\n",
        "    dropped += 1"
      ]
    },
    {
      "cell_type": "code",
      "execution_count": null,
      "metadata": {
        "id": "hJNAzortrq3P"
      },
      "outputs": [],
      "source": [
        "final.to_csv(mydir + \"intermedio.csv\")\n",
        "final = pd.read_csv(mydir + \"intermedio.csv\")"
      ]
    },
    {
      "cell_type": "code",
      "execution_count": null,
      "metadata": {
        "id": "NIwqSugEE2_f"
      },
      "outputs": [],
      "source": [
        "final = final.drop(columns=[\"index\"])\n",
        "final = final.reset_index()"
      ]
    },
    {
      "cell_type": "code",
      "execution_count": null,
      "metadata": {
        "colab": {
          "base_uri": "https://localhost:8080/",
          "height": 430
        },
        "id": "ZYYXCywRqGK6",
        "outputId": "59e096e5-f46a-4d4a-f82c-6471c628b3cf"
      },
      "outputs": [
        {
          "data": {
            "image/png": "[encoded data removed]",
            "text/plain": [
              "<Figure size 640x480 with 1 Axes>"
            ]
          },
          "metadata": {},
          "output_type": "display_data"
        }
      ],
      "source": [
        "#Plot the length of the sentences\n",
        "import matplotlib.pyplot as plt\n",
        "\n",
        "a = []\n",
        "for i in range(0, len(final)):\n",
        "  z = len(final.loc[i][\"steps\"].replace(',', '').split(\" \"))\n",
        "  a.append(z)\n",
        "\n",
        "plt.hist(a,  bins=range(0, 340))\n",
        "plt.show()"
      ]
    },
    {
      "cell_type": "code",
      "execution_count": null,
      "metadata": {
        "id": "tpvsrGWTnSZa"
      },
      "outputs": [],
      "source": [
        "#I dropped the rows with sentences with length > 200 word\n",
        "for i in range(0, len(final)):\n",
        "  z = len(final.loc[i][\"steps\"].replace(',', '').split(\" \"))\n",
        "  if(z>200):\n",
        "    final = final.drop(i)"
      ]
    },
    {
      "cell_type": "code",
      "execution_count": null,
      "metadata": {
        "colab": {
          "base_uri": "https://localhost:8080/"
        },
        "id": "gQAndIER0NO_",
        "outputId": "f2bef1c0-593f-4273-837d-adec01924145"
      },
      "outputs": [
        {
          "data": {
            "text/plain": [
              "106913"
            ]
          },
          "execution_count": 82,
          "metadata": {},
          "output_type": "execute_result"
        }
      ],
      "source": [
        "len(final)"
      ]
    },
    {
      "cell_type": "code",
      "execution_count": null,
      "metadata": {
        "id": "Pu1J_ZV6-Xl6"
      },
      "outputs": [],
      "source": [
        "#Normalization of the ratings in order to get a rating with value between 0 and 1\n",
        "final[\"rating\"] = final[\"rating\"] / 5"
      ]
    },
    {
      "cell_type": "code",
      "execution_count": null,
      "metadata": {
        "id": "Z12uUhwh9cq7"
      },
      "outputs": [],
      "source": [
        "final['ingredients'] = 'Ingredients: ' + final['ingredients']"
      ]
    },
    {
      "cell_type": "code",
      "execution_count": null,
      "metadata": {
        "id": "_2oewWSNQCpD"
      },
      "outputs": [],
      "source": [
        "final = final.drop(columns=[\"index\"])"
      ]
    },
    {
      "cell_type": "code",
      "execution_count": null,
      "metadata": {
        "id": "q-qcU4m4K-oS"
      },
      "outputs": [],
      "source": [
        "for i in range(0, len(final)):\n",
        "  z = final.loc[i][\"ingredients\"][2:-2].split(\"', '\")\n",
        "  final.loc[i, 'ingredients'] = \", \".join(z)"
      ]
    },
    {
      "cell_type": "code",
      "execution_count": null,
      "metadata": {
        "colab": {
          "base_uri": "https://localhost:8080/",
          "height": 206
        },
        "id": "5AY9-iYmQbE4",
        "outputId": "018aefbc-339e-4e22-9546-0de6dd884c83"
      },
      "outputs": [
        {
          "data": {
            "application/vnd.google.colaboratory.intrinsic+json": {
              "type": "dataframe",
              "variable_name": "final"
            },
            "text/html": [
              "\n",
              "  <div id=\"df-89d33cdd-efaa-4408-adee-7b9263cb19e6\" class=\"colab-df-container\">\n",
              "    <div>\n",
              "<style scoped>\n",
              "    .dataframe tbody tr th:only-of-type {\n",
              "        vertical-align: middle;\n",
              "    }\n",
              "\n",
              "    .dataframe tbody tr th {\n",
              "        vertical-align: top;\n",
              "    }\n",
              "\n",
              "    .dataframe thead th {\n",
              "        text-align: right;\n",
              "    }\n",
              "</style>\n",
              "<table border=\"1\" class=\"dataframe\">\n",
              "  <thead>\n",
              "    <tr style=\"text-align: right;\">\n",
              "      <th></th>\n",
              "      <th>id</th>\n",
              "      <th>steps</th>\n",
              "      <th>ingredients</th>\n",
              "      <th>rating</th>\n",
              "    </tr>\n",
              "  </thead>\n",
              "  <tbody>\n",
              "    <tr>\n",
              "      <th>0</th>\n",
              "      <td>137739</td>\n",
              "      <td>make a choice and proceed with recipe; dependi...</td>\n",
              "      <td>Ingredients: winter squash, mexican seasoning,...</td>\n",
              "      <td>1.0</td>\n",
              "    </tr>\n",
              "    <tr>\n",
              "      <th>1</th>\n",
              "      <td>31490</td>\n",
              "      <td>preheat oven to 425 degrees f; press dough int...</td>\n",
              "      <td>Ingredients: prepared pizza crust, sausage pat...</td>\n",
              "      <td>0.7</td>\n",
              "    </tr>\n",
              "    <tr>\n",
              "      <th>2</th>\n",
              "      <td>112140</td>\n",
              "      <td>brown ground beef in large pot; add chopped on...</td>\n",
              "      <td>Ingredients: ground beef, yellow onions, diced...</td>\n",
              "      <td>0.8</td>\n",
              "    </tr>\n",
              "    <tr>\n",
              "      <th>3</th>\n",
              "      <td>5289</td>\n",
              "      <td>combine ingredients in blender; cover and blen...</td>\n",
              "      <td>Ingredients: milk, vanilla ice cream, frozen a...</td>\n",
              "      <td>1.0</td>\n",
              "    </tr>\n",
              "    <tr>\n",
              "      <th>4</th>\n",
              "      <td>25274</td>\n",
              "      <td>toast the fennel seeds and lightly crush them;...</td>\n",
              "      <td>Ingredients: fennel seeds, green olives, ripe ...</td>\n",
              "      <td>0.4</td>\n",
              "    </tr>\n",
              "  </tbody>\n",
              "</table>\n",
              "</div>\n",
              "    <div class=\"colab-df-buttons\">\n",
              "\n",
              "  <div class=\"colab-df-container\">\n",
              "    <button class=\"colab-df-convert\" onclick=\"convertToInteractive('df-89d33cdd-efaa-4408-adee-7b9263cb19e6')\"\n",
              "            title=\"Convert this dataframe to an interactive table.\"\n",
              "            style=\"display:none;\">\n",
              "\n",
              "  <svg xmlns=\"http://www.w3.org/2000/svg\" height=\"24px\" viewBox=\"0 -960 960 960\">\n",
              "    <path d=\"M120-120v-720h720v720H120Zm60-500h600v-160H180v160Zm220 220h160v-160H400v160Zm0 220h160v-160H400v160ZM180-400h160v-160H180v160Zm440 0h160v-160H620v160ZM180-180h160v-160H180v160Zm440 0h160v-160H620v160Z\"/>\n",
              "  </svg>\n",
              "    </button>\n",
              "\n",
              "  <style>\n",
              "    .colab-df-container {\n",
              "      display:flex;\n",
              "      gap: 12px;\n",
              "    }\n",
              "\n",
              "    .colab-df-convert {\n",
              "      background-color: #E8F0FE;\n",
              "      border: none;\n",
              "      border-radius: 50%;\n",
              "      cursor: pointer;\n",
              "      display: none;\n",
              "      fill: #1967D2;\n",
              "      height: 32px;\n",
              "      padding: 0 0 0 0;\n",
              "      width: 32px;\n",
              "    }\n",
              "\n",
              "    .colab-df-convert:hover {\n",
              "      background-color: #E2EBFA;\n",
              "      box-shadow: 0px 1px 2px rgba(60, 64, 67, 0.3), 0px 1px 3px 1px rgba(60, 64, 67, 0.15);\n",
              "      fill: #174EA6;\n",
              "    }\n",
              "\n",
              "    .colab-df-buttons div {\n",
              "      margin-bottom: 4px;\n",
              "    }\n",
              "\n",
              "    [theme=dark] .colab-df-convert {\n",
              "      background-color: #3B4455;\n",
              "      fill: #D2E3FC;\n",
              "    }\n",
              "\n",
              "    [theme=dark] .colab-df-convert:hover {\n",
              "      background-color: #434B5C;\n",
              "      box-shadow: 0px 1px 3px 1px rgba(0, 0, 0, 0.15);\n",
              "      filter: drop-shadow(0px 1px 2px rgba(0, 0, 0, 0.3));\n",
              "      fill: #FFFFFF;\n",
              "    }\n",
              "  </style>\n",
              "\n",
              "    <script>\n",
              "      const buttonEl =\n",
              "        document.querySelector('#df-89d33cdd-efaa-4408-adee-7b9263cb19e6 button.colab-df-convert');\n",
              "      buttonEl.style.display =\n",
              "        google.colab.kernel.accessAllowed ? 'block' : 'none';\n",
              "\n",
              "      async function convertToInteractive(key) {\n",
              "        const element = document.querySelector('#df-89d33cdd-efaa-4408-adee-7b9263cb19e6');\n",
              "        const dataTable =\n",
              "          await google.colab.kernel.invokeFunction('convertToInteractive',\n",
              "                                                    [key], {});\n",
              "        if (!dataTable) return;\n",
              "\n",
              "        const docLinkHtml = 'Like what you see? Visit the ' +\n",
              "          '<a target=\"_blank\" href=https://colab.research.google.com/notebooks/data_table.ipynb>data table notebook</a>'\n",
              "          + ' to learn more about interactive tables.';\n",
              "        element.innerHTML = '';\n",
              "        dataTable['output_type'] = 'display_data';\n",
              "        await google.colab.output.renderOutput(dataTable, element);\n",
              "        const docLink = document.createElement('div');\n",
              "        docLink.innerHTML = docLinkHtml;\n",
              "        element.appendChild(docLink);\n",
              "      }\n",
              "    </script>\n",
              "  </div>\n",
              "\n",
              "\n",
              "<div id=\"df-140f6320-86c5-4d37-9446-e2560da00122\">\n",
              "  <button class=\"colab-df-quickchart\" onclick=\"quickchart('df-140f6320-86c5-4d37-9446-e2560da00122')\"\n",
              "            title=\"Suggest charts\"\n",
              "            style=\"display:none;\">\n",
              "\n",
              "<svg xmlns=\"http://www.w3.org/2000/svg\" height=\"24px\"viewBox=\"0 0 24 24\"\n",
              "     width=\"24px\">\n",
              "    <g>\n",
              "        <path d=\"M19 3H5c-1.1 0-2 .9-2 2v14c0 1.1.9 2 2 2h14c1.1 0 2-.9 2-2V5c0-1.1-.9-2-2-2zM9 17H7v-7h2v7zm4 0h-2V7h2v10zm4 0h-2v-4h2v4z\"/>\n",
              "    </g>\n",
              "</svg>\n",
              "  </button>\n",
              "\n",
              "<style>\n",
              "  .colab-df-quickchart {\n",
              "      --bg-color: #E8F0FE;\n",
              "      --fill-color: #1967D2;\n",
              "      --hover-bg-color: #E2EBFA;\n",
              "      --hover-fill-color: #174EA6;\n",
              "      --disabled-fill-color: #AAA;\n",
              "      --disabled-bg-color: #DDD;\n",
              "  }\n",
              "\n",
              "  [theme=dark] .colab-df-quickchart {\n",
              "      --bg-color: #3B4455;\n",
              "      --fill-color: #D2E3FC;\n",
              "      --hover-bg-color: #434B5C;\n",
              "      --hover-fill-color: #FFFFFF;\n",
              "      --disabled-bg-color: #3B4455;\n",
              "      --disabled-fill-color: #666;\n",
              "  }\n",
              "\n",
              "  .colab-df-quickchart {\n",
              "    background-color: var(--bg-color);\n",
              "    border: none;\n",
              "    border-radius: 50%;\n",
              "    cursor: pointer;\n",
              "    display: none;\n",
              "    fill: var(--fill-color);\n",
              "    height: 32px;\n",
              "    padding: 0;\n",
              "    width: 32px;\n",
              "  }\n",
              "\n",
              "  .colab-df-quickchart:hover {\n",
              "    background-color: var(--hover-bg-color);\n",
              "    box-shadow: 0 1px 2px rgba(60, 64, 67, 0.3), 0 1px 3px 1px rgba(60, 64, 67, 0.15);\n",
              "    fill: var(--button-hover-fill-color);\n",
              "  }\n",
              "\n",
              "  .colab-df-quickchart-complete:disabled,\n",
              "  .colab-df-quickchart-complete:disabled:hover {\n",
              "    background-color: var(--disabled-bg-color);\n",
              "    fill: var(--disabled-fill-color);\n",
              "    box-shadow: none;\n",
              "  }\n",
              "\n",
              "  .colab-df-spinner {\n",
              "    border: 2px solid var(--fill-color);\n",
              "    border-color: transparent;\n",
              "    border-bottom-color: var(--fill-color);\n",
              "    animation:\n",
              "      spin 1s steps(1) infinite;\n",
              "  }\n",
              "\n",
              "  @keyframes spin {\n",
              "    0% {\n",
              "      border-color: transparent;\n",
              "      border-bottom-color: var(--fill-color);\n",
              "      border-left-color: var(--fill-color);\n",
              "    }\n",
              "    20% {\n",
              "      border-color: transparent;\n",
              "      border-left-color: var(--fill-color);\n",
              "      border-top-color: var(--fill-color);\n",
              "    }\n",
              "    30% {\n",
              "      border-color: transparent;\n",
              "      border-left-color: var(--fill-color);\n",
              "      border-top-color: var(--fill-color);\n",
              "      border-right-color: var(--fill-color);\n",
              "    }\n",
              "    40% {\n",
              "      border-color: transparent;\n",
              "      border-right-color: var(--fill-color);\n",
              "      border-top-color: var(--fill-color);\n",
              "    }\n",
              "    60% {\n",
              "      border-color: transparent;\n",
              "      border-right-color: var(--fill-color);\n",
              "    }\n",
              "    80% {\n",
              "      border-color: transparent;\n",
              "      border-right-color: var(--fill-color);\n",
              "      border-bottom-color: var(--fill-color);\n",
              "    }\n",
              "    90% {\n",
              "      border-color: transparent;\n",
              "      border-bottom-color: var(--fill-color);\n",
              "    }\n",
              "  }\n",
              "</style>\n",
              "\n",
              "  <script>\n",
              "    async function quickchart(key) {\n",
              "      const quickchartButtonEl =\n",
              "        document.querySelector('#' + key + ' button');\n",
              "      quickchartButtonEl.disabled = true;  // To prevent multiple clicks.\n",
              "      quickchartButtonEl.classList.add('colab-df-spinner');\n",
              "      try {\n",
              "        const charts = await google.colab.kernel.invokeFunction(\n",
              "            'suggestCharts', [key], {});\n",
              "      } catch (error) {\n",
              "        console.error('Error during call to suggestCharts:', error);\n",
              "      }\n",
              "      quickchartButtonEl.classList.remove('colab-df-spinner');\n",
              "      quickchartButtonEl.classList.add('colab-df-quickchart-complete');\n",
              "    }\n",
              "    (() => {\n",
              "      let quickchartButtonEl =\n",
              "        document.querySelector('#df-140f6320-86c5-4d37-9446-e2560da00122 button');\n",
              "      quickchartButtonEl.style.display =\n",
              "        google.colab.kernel.accessAllowed ? 'block' : 'none';\n",
              "    })();\n",
              "  </script>\n",
              "</div>\n",
              "\n",
              "    </div>\n",
              "  </div>\n"
            ],
            "text/plain": [
              "       id                                              steps  \\\n",
              "0  137739  make a choice and proceed with recipe; dependi...   \n",
              "1   31490  preheat oven to 425 degrees f; press dough int...   \n",
              "2  112140  brown ground beef in large pot; add chopped on...   \n",
              "3    5289  combine ingredients in blender; cover and blen...   \n",
              "4   25274  toast the fennel seeds and lightly crush them;...   \n",
              "\n",
              "                                         ingredients  rating  \n",
              "0  Ingredients: winter squash, mexican seasoning,...     1.0  \n",
              "1  Ingredients: prepared pizza crust, sausage pat...     0.7  \n",
              "2  Ingredients: ground beef, yellow onions, diced...     0.8  \n",
              "3  Ingredients: milk, vanilla ice cream, frozen a...     1.0  \n",
              "4  Ingredients: fennel seeds, green olives, ripe ...     0.4  "
            ]
          },
          "execution_count": 4,
          "metadata": {},
          "output_type": "execute_result"
        }
      ],
      "source": [
        "final.head()"
      ]
    },
    {
      "cell_type": "markdown",
      "source": [
        "##Now the fine-tuning task"
      ],
      "metadata": {
        "id": "kR8Oh_Nc4ON4"
      }
    },
    {
      "cell_type": "code",
      "source": [
        "model_dir = mydir + \"T5_FineTuning\""
      ],
      "metadata": {
        "id": "RHX0bvU9taLP"
      },
      "execution_count": null,
      "outputs": []
    },
    {
      "cell_type": "code",
      "execution_count": null,
      "metadata": {
        "id": "Z5lCpDx6-O4X"
      },
      "outputs": [],
      "source": [
        "import torch\n",
        "from transformers import T5Tokenizer, T5ForConditionalGeneration\n",
        "\n",
        "#The first time the loaded model was the model trained with MLM\n",
        "model_name = \"moro01525/T5_FineTuning\"\n",
        "tokenizer = T5Tokenizer.from_pretrained(\"t5-small\")\n",
        "model = T5ForConditionalGeneration.from_pretrained(model_name)"
      ]
    },
    {
      "cell_type": "code",
      "execution_count": null,
      "metadata": {
        "id": "UOJmLIyc8acL"
      },
      "outputs": [],
      "source": [
        "from datasets import Dataset\n",
        "final[:100000] = final[:100000].sample(frac=1).reset_index(drop=True)\n",
        "dataset = Dataset.from_pandas(final[:33000])\n",
        "evaluation = Dataset.from_pandas(final[101000:106000])\n",
        "test = final[100000:101000]"
      ]
    },
    {
      "cell_type": "code",
      "execution_count": null,
      "metadata": {
        "id": "peSBtrr0soDf"
      },
      "outputs": [],
      "source": [
        "def preprocess_function(examples):\n",
        "    model_inputs = tokenizer(examples['ingredients'], max_length=64, truncation=True, padding='max_length')\n",
        "    labels = tokenizer(examples['steps'], max_length=256, truncation=True, padding='max_length')\n",
        "    model_inputs['labels'] = labels['input_ids']\n",
        "    model_inputs['rating'] = examples['rating']\n",
        "    return model_inputs"
      ]
    },
    {
      "cell_type": "code",
      "execution_count": null,
      "metadata": {
        "id": "ifFr9OnquKni"
      },
      "outputs": [],
      "source": [
        "tokenized_dataset = dataset.map(preprocess_function, batched=True)\n",
        "tokenized_evaluation = evaluation.map(preprocess_function, batched=True)"
      ]
    },
    {
      "cell_type": "code",
      "execution_count": null,
      "metadata": {
        "id": "z-vmPEoiNHM9"
      },
      "outputs": [],
      "source": [
        "from transformers import Trainer\n",
        "\n",
        "#A special Trainer class to compute the weighted loss\n",
        "class CustomTrainer(Trainer):\n",
        "    def compute_loss(self, model, inputs, return_outputs=False):\n",
        "        labels = inputs.get(\"labels\")\n",
        "        ratings = inputs.pop(\"rating\")\n",
        "\n",
        "        outputs = model(**inputs)\n",
        "        logits = outputs.logits\n",
        "\n",
        "        # Calculate the standard loss with cross entropy\n",
        "        loss_fct = torch.nn.CrossEntropyLoss()\n",
        "        loss = loss_fct(logits.view(-1, self.model.config.vocab_size), labels.view(-1))\n",
        "\n",
        "        if ratings is not None:\n",
        "            ratings = ratings.view(-1).float()\n",
        "            for i in range(0, len(ratings)):\n",
        "              rate = ratings[i]\n",
        "              if(rate == 0):                      #This is to consider also the row with 0 rating, in order to get at least some information\n",
        "                ratings[i] = 0.1\n",
        "            weighted_loss = loss * ratings        #The loss is weighted with the ratings\n",
        "            loss = weighted_loss.mean()\n",
        "\n",
        "        return (loss, outputs) if return_outputs else loss\n",
        "\n",
        "    #Below I changed the dataloader to use my data collator\n",
        "\n",
        "    def get_train_dataloader(self):\n",
        "        dataloader = DataLoader(\n",
        "            self.train_dataset,\n",
        "            batch_size=self.args.per_device_train_batch_size,\n",
        "            collate_fn=self.data_collator,\n",
        "            sampler=self._get_train_sampler(),\n",
        "            drop_last=self.args.dataloader_drop_last,\n",
        "        )\n",
        "        return dataloader\n",
        "\n",
        "    def get_eval_dataloader(self, eval_dataset=None):\n",
        "        eval_dataset = eval_dataset if eval_dataset is not None else self.eval_dataset\n",
        "        dataloader = DataLoader(\n",
        "            eval_dataset,\n",
        "            batch_size=self.args.per_device_eval_batch_size,\n",
        "            collate_fn=self.data_collator,\n",
        "            sampler=self._get_eval_sampler(eval_dataset),\n",
        "            drop_last=self.args.dataloader_drop_last,\n",
        "        )\n",
        "        return dataloader"
      ]
    },
    {
      "cell_type": "code",
      "execution_count": null,
      "metadata": {
        "id": "r-dnx2fXDj8I"
      },
      "outputs": [],
      "source": [
        "model_dir = mydir + \"T5_FineTuning\""
      ]
    },
    {
      "cell_type": "code",
      "execution_count": null,
      "metadata": {
        "id": "Gk-oQrxwHa6B"
      },
      "outputs": [],
      "source": [
        "from torch.utils.data import DataLoader\n",
        "\n",
        "#The definition of data collator\n",
        "def collate_fn(batch):\n",
        "\n",
        "    input_ids = [item['input_ids'] for item in batch]\n",
        "    attention_mask = [item['attention_mask'] for item in batch]\n",
        "    labels = [item['labels'] for item in batch]\n",
        "    ratings = [item['rating'] for item in batch]\n",
        "\n",
        "    input_ids = torch.tensor(input_ids, dtype=torch.long)\n",
        "    attention_mask = torch.tensor(attention_mask, dtype=torch.long)\n",
        "    labels = torch.tensor(labels, dtype=torch.long)\n",
        "    ratings = torch.tensor(ratings, dtype=torch.float32)\n",
        "\n",
        "    return {'input_ids': input_ids, 'attention_mask': attention_mask, 'labels': labels, 'rating': ratings}"
      ]
    },
    {
      "cell_type": "code",
      "execution_count": null,
      "metadata": {
        "id": "-RqFZORtCHsv"
      },
      "outputs": [],
      "source": [
        "from transformers import TrainingArguments\n",
        "from transformers import DataCollatorForSeq2Seq\n",
        "\n",
        "#Define the training arguments\n",
        "training_args = TrainingArguments(\n",
        "    output_dir=model_dir,\n",
        "    num_train_epochs=1,\n",
        "    learning_rate=2e-5,\n",
        "    weight_decay=0.01,\n",
        "    per_device_train_batch_size=4,\n",
        "    seed=55,\n",
        "    save_steps=10_000,\n",
        "    save_total_limit=2,\n",
        "    eval_strategy=\"steps\",\n",
        "    eval_steps=1500,\n",
        "    logging_steps=1000\n",
        ")\n",
        "\n",
        "trainer = CustomTrainer(\n",
        "    model=model,\n",
        "    args=training_args,\n",
        "    train_dataset=tokenized_dataset,\n",
        "    eval_dataset=tokenized_evaluation,\n",
        "    data_collator=collate_fn,\n",
        "    tokenizer=tokenizer,\n",
        ")"
      ]
    },
    {
      "cell_type": "code",
      "execution_count": null,
      "metadata": {
        "id": "JyWjbwfsE1kW"
      },
      "outputs": [],
      "source": [
        "trainer.train()"
      ]
    },
    {
      "cell_type": "code",
      "execution_count": null,
      "metadata": {
        "id": "D_Gc_khbFYHp"
      },
      "outputs": [],
      "source": [
        "trainer.save_model(model_dir)"
      ]
    },
    {
      "cell_type": "code",
      "execution_count": null,
      "metadata": {
        "id": "WhwoIpooZmhN"
      },
      "outputs": [],
      "source": [
        "!pip install huggingface_hub\n",
        "from huggingface_hub import notebook_login\n",
        "notebook_login()"
      ]
    },
    {
      "cell_type": "code",
      "execution_count": null,
      "metadata": {
        "id": "pKPAnsGFZ6Nn"
      },
      "outputs": [],
      "source": [
        "trainer.push_to_hub(commit_message='T5 addestrato nella generazione di ricette dopo 5 epoch')"
      ]
    },
    {
      "cell_type": "markdown",
      "source": [
        "##Below the analysis of the model and the metrics"
      ],
      "metadata": {
        "id": "IlM_Tryk780h"
      }
    },
    {
      "cell_type": "code",
      "source": [
        "import torch\n",
        "from transformers import T5Tokenizer, T5ForConditionalGeneration\n",
        "\n",
        "tokenizer = T5Tokenizer.from_pretrained(\"t5-small\")\n",
        "model = T5ForConditionalGeneration.from_pretrained(model_dir)"
      ],
      "metadata": {
        "id": "gW0JtA2p77Vh"
      },
      "execution_count": null,
      "outputs": []
    },
    {
      "cell_type": "code",
      "execution_count": null,
      "metadata": {
        "id": "UrPtcQmXaMEq"
      },
      "outputs": [],
      "source": [
        "def generate_recipe(model, ingredients):\n",
        "    input_text = f\"Ingredients: {ingredients}\"\n",
        "    input_ids = tokenizer.encode(input_text, return_tensors=\"pt\")\n",
        "\n",
        "    outputs = model.generate(input_ids, max_length=150, num_beams=5, repetition_penalty=2.5, no_repeat_ngram_size=2, early_stopping=True)\n",
        "    recipe = tokenizer.decode(outputs[0], skip_special_tokens=True)\n",
        "    return recipe"
      ]
    },
    {
      "cell_type": "code",
      "execution_count": null,
      "metadata": {
        "id": "lbU5hYumw0HW"
      },
      "outputs": [],
      "source": [
        "#Print some examples\n",
        "\n",
        "import random\n",
        "for i in range(0, 2):\n",
        "  index = random.randint(0, 1000) + 100000\n",
        "  input = test.loc[index][\"ingredients\"]\n",
        "  output = test.loc[index][\"steps\"]\n",
        "  predict = generate_recipe(model, input)\n",
        "\n",
        "  print(input, \"\\n\")\n",
        "  print(predict, \"\\n\")\n",
        "  print(output, \"\\n------------------------------------------------------------------------------------------------------------------------------------------------------------------\\n\")"
      ]
    },
    {
      "cell_type": "code",
      "execution_count": null,
      "metadata": {
        "id": "dfxPev0LF0HJ"
      },
      "outputs": [],
      "source": [
        "!pip install sentence_transformers"
      ]
    },
    {
      "cell_type": "code",
      "execution_count": null,
      "metadata": {
        "id": "CJGN8A2cjrSS"
      },
      "outputs": [],
      "source": [
        "import random\n",
        "from sklearn.metrics.pairwise import cosine_similarity\n",
        "from sentence_transformers import SentenceTransformer\n",
        "\n",
        "#This is a Sentence-BERT model for word embedding (sentence in this case) to check the similairty between the model generation and the expected sentence\n",
        "modelForSimilarity = SentenceTransformer('paraphrase-MiniLM-L6-v2')\n",
        "\n",
        "#I compute the metric on 200 random rows from test dataset\n",
        "total = 0\n",
        "len = 200\n",
        "for i in range(0, len):\n",
        "  index = random.randint(0, 999) + 100000\n",
        "  input = test.loc[index][\"ingredients\"]\n",
        "  generated_text = generate_recipe(input)\n",
        "  reference_text = test.loc[index][\"steps\"]\n",
        "\n",
        "  embeddings_generated = modelForSimilarity.encode([generated_text])\n",
        "  embeddings_reference = modelForSimilarity.encode([reference_text])\n",
        "\n",
        "  similarity = cosine_similarity(embeddings_generated, embeddings_reference)\n",
        "  total += similarity[0][0]\n",
        "print(total/len)"
      ]
    },
    {
      "cell_type": "code",
      "execution_count": null,
      "metadata": {
        "id": "fz_atCHZCfG_"
      },
      "outputs": [],
      "source": [
        "!pip install rouge_score"
      ]
    },
    {
      "cell_type": "code",
      "execution_count": null,
      "metadata": {
        "id": "UcrEXNQYCbvk"
      },
      "outputs": [],
      "source": [
        "from rouge_score import rouge_scorer\n",
        "\n",
        "total = {\n",
        "  \"rouge1\": 0,\n",
        "  \"rouge2\": 0,\n",
        "  \"rougeL\": 0\n",
        "}\n",
        "\n",
        "#I compute the metric on 200 random rows from test dataset\n",
        "len = 200\n",
        "for i in range(0, len):\n",
        "  index = random.randint(0, 999) + 100000\n",
        "\n",
        "  input = test.loc[index][\"ingredients\"]\n",
        "  generated_text = generate_recipe(input)\n",
        "  reference_text = test.loc[index][\"steps\"]\n",
        "\n",
        "  scorer = rouge_scorer.RougeScorer(['rouge1', 'rouge2', 'rougeL'], use_stemmer=True)\n",
        "  scores = scorer.score(reference_text, generated_text)\n",
        "\n",
        "  for j in scores:\n",
        "    total[j] += scores[j].fmeasure\n",
        "\n",
        "  for j in total:\n",
        "  print(j, \": \", total[j]/len)"
      ]
    }
  ],
  "metadata": {
    "colab": {
      "provenance": []
    },
    "kernelspec": {
      "display_name": "Python 3",
      "name": "python3"
    },
    "language_info": {
      "name": "python"
    }
  },
  "nbformat": 4,
  "nbformat_minor": 0
}
