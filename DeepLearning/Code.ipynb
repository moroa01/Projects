{
 "cells": [
  {
   "cell_type": "code",
   "execution_count": null,
   "metadata": {
    "colab": {
     "base_uri": "https://localhost:8080/"
    },
    "id": "AtR8AM_txmsE",
    "outputId": "6aeb5c87-a8e7-4b77-ed39-ac4276a2b9a6"
   },
   "outputs": [
    {
     "name": "stdout",
     "output_type": "stream",
     "text": [
      "Mounted at /content/drive\n"
     ]
    }
   ],
   "source": [
    "import numpy as np\n",
    "import tensorflow as tf\n",
    "from tensorflow.keras import layers, models\n",
    "import pandas as pd\n",
    "import matplotlib.pyplot as plt\n",
    "import matplotlib.patches as patches\n",
    "\n",
    "from google.colab import drive\n",
    "drive.mount('/content/drive')\n",
    "mydir = \"/content/drive/MyDrive/DeepLearning project/\""
   ]
  },
  {
   "cell_type": "markdown",
   "metadata": {},
   "source": [
    "## Modello costruito da zero"
   ]
  },
  {
   "cell_type": "code",
   "execution_count": null,
   "metadata": {
    "id": "Z3eMyu1Q9E6W"
   },
   "outputs": [],
   "source": [
    "data_augmentation = models.Sequential([\n",
    "  layers.RandomFlip(\"horizontal_and_vertical\"),\n",
    "  layers.RandomRotation(0.2),\n",
    "  layers.RandomZoom(0.1),\n",
    "  layers.RandomContrast(0.1),\n",
    "])\n",
    "\n",
    "def build_model(input_shape=(299, 299, 3)):\n",
    "    inputs = layers.Input(shape=input_shape)\n",
    "\n",
    "    x = data_augmentation(inputs)\n",
    "\n",
    "    # Blocchi convoluzionali\n",
    "    x = layers.Conv2D(32, (3,3), padding=\"same\")(x)\n",
    "    x = layers.BatchNormalization()(x)\n",
    "    x = layers.Activation(\"relu\")(x)\n",
    "    x = layers.MaxPooling2D((2,2))(x)\n",
    "\n",
    "    x = layers.Conv2D(64, (3,3), padding=\"same\")(x)\n",
    "    x = layers.BatchNormalization()(x)\n",
    "    x = layers.Activation(\"relu\")(x)\n",
    "    x = layers.MaxPooling2D((2,2))(x)\n",
    "\n",
    "    x = layers.Conv2D(128, (3,3), padding=\"same\")(x)\n",
    "    x = layers.BatchNormalization()(x)\n",
    "    x = layers.Activation(\"relu\")(x)\n",
    "    x = layers.MaxPooling2D((2,2))(x)\n",
    "\n",
    "    # Global Average Pooling\n",
    "    x = layers.GlobalAveragePooling2D()(x)\n",
    "\n",
    "    # Fully connected finale\n",
    "    x = layers.Dense(128, activation=\"relu\")(x)\n",
    "    x = layers.Dropout(0.5)(x)\n",
    "    outputs = layers.Dense(1, activation=\"sigmoid\")(x)\n",
    "\n",
    "    return models.Model(inputs, outputs)"
   ]
  },
  {
   "cell_type": "markdown",
   "metadata": {},
   "source": [
    "## Modello basato su InceptionV3"
   ]
  },
  {
   "cell_type": "code",
   "execution_count": null,
   "metadata": {
    "id": "V3lZVJp-ZIMH"
   },
   "outputs": [],
   "source": [
    "from tensorflow.keras.applications import InceptionV3\n",
    "\n",
    "# Modello InceptionV3\n",
    "base_model = InceptionV3(\n",
    "    weights=\"imagenet\",\n",
    "    include_top=False,\n",
    "    input_shape=(299, 299, 3)\n",
    ")\n",
    "\n",
    "# Congelo quasi tutto, sblocco solo ultimi 25 blocchi (per ora)\n",
    "fine_tune_at = len(base_model.layers) - 25\n",
    "for layer in base_model.layers[:fine_tune_at]:\n",
    "    layer.trainable = False\n",
    "for layer in base_model.layers[fine_tune_at:]:\n",
    "    layer.trainable = True\n",
    "\n",
    "# Data augmentation\n",
    "data_augmentation = models.Sequential([\n",
    "    layers.RandomFlip(\"horizontal_and_vertical\"),\n",
    "    layers.RandomRotation(0.2),\n",
    "    layers.RandomZoom(0.2),\n",
    "    layers.RandomContrast(0.1),\n",
    "])\n",
    "\n",
    "# Build model\n",
    "def build_model_v3():\n",
    "    inputs = layers.Input(shape=(299, 299, 3))\n",
    "    x = data_augmentation(inputs)\n",
    "\n",
    "    x = base_model(x, training=True)\n",
    "\n",
    "    x = layers.GlobalAveragePooling2D()(x)\n",
    "    x = layers.Dropout(0.5)(x)\n",
    "    x = layers.Dense(128, activation=\"relu\")(x)\n",
    "    x = layers.Dropout(0.3)(x)\n",
    "    \n",
    "    predictions = layers.Dense(1, activation=\"sigmoid\")(x)\n",
    "    \n",
    "    return models.Model(inputs, predictions)"
   ]
  },
  {
   "cell_type": "markdown",
   "metadata": {},
   "source": [
    "## Modello basato su EfficientNetB3"
   ]
  },
  {
   "cell_type": "code",
   "execution_count": null,
   "metadata": {
    "id": "J9ZF0QzneAtq"
   },
   "outputs": [],
   "source": [
    "from tensorflow.keras.applications import EfficientNetB3\n",
    "\n",
    "# Modello EfficientNetB3\n",
    "base_model = EfficientNetB3(\n",
    "    weights=\"imagenet\",\n",
    "    include_top=False,\n",
    "    input_shape=(299, 299, 3)\n",
    ")\n",
    "\n",
    "# Congelo quasi tutto, sblocco solo ultimi 30 blocchi\n",
    "fine_tune_at = len(base_model.layers) - 30\n",
    "for layer in base_model.layers[:fine_tune_at]:\n",
    "    layer.trainable = False\n",
    "for layer in base_model.layers[fine_tune_at:]:\n",
    "    layer.trainable = True\n",
    "\n",
    "# Data augmentation\n",
    "data_augmentation = models.Sequential([\n",
    "    layers.RandomFlip(\"horizontal_and_vertical\"),\n",
    "    layers.RandomRotation(0.2),\n",
    "    layers.RandomZoom(0.2),\n",
    "    layers.RandomContrast(0.1),\n",
    "])\n",
    "\n",
    "# Build model\n",
    "def build_model_b3():\n",
    "    inputs = layers.Input(shape=(299, 299, 3))\n",
    "    x = data_augmentation(inputs)\n",
    "\n",
    "    x = base_model(x, training=True)\n",
    "\n",
    "    x = layers.GlobalAveragePooling2D()(x)\n",
    "    x = layers.Dropout(0.5)(x)\n",
    "    x = layers.Dense(128, activation=\"relu\")(x)\n",
    "    x = layers.Dropout(0.3)(x)\n",
    "    \n",
    "    predictions = layers.Dense(1, activation=\"sigmoid\")(x)\n",
    "    \n",
    "    return models.Model(inputs, predictions)"
   ]
  },
  {
   "cell_type": "markdown",
   "metadata": {},
   "source": [
    "## Compilazione dei modelli"
   ]
  },
  {
   "cell_type": "code",
   "execution_count": null,
   "metadata": {
    "id": "CLFiJqK8KFWa"
   },
   "outputs": [],
   "source": [
    "model = build_model()\n",
    "#model = build_model_v3()\n",
    "#model = build_model_b3()\n",
    "\n",
    "model.compile(\n",
    "optimizer=tf.keras.optimizers.Adam(learning_rate=1e-4),\n",
    "loss='binary_crossentropy',\n",
    "metrics=[\n",
    "    'accuracy',\n",
    "    tf.keras.metrics.AUC(name='auc'),\n",
    "    tf.keras.metrics.Precision(name='precision'),\n",
    "    tf.keras.metrics.Recall(name='recall'),\n",
    "    tf.keras.metrics.F1Score(name='f1-score')\n",
    "  ]\n",
    ")"
   ]
  },
  {
   "cell_type": "markdown",
   "metadata": {},
   "source": [
    "## Ricarico i modelli dopo un certo numero di epoch e modifico lo stato degli ultimi layer (solo per i modelli con transfer learning)"
   ]
  },
  {
   "cell_type": "code",
   "execution_count": null,
   "metadata": {
    "id": "mBjdSVT8unXu"
   },
   "outputs": [],
   "source": [
    "model = tf.keras.models.load_model(mydir+\"InceptionV3.keras\")\n",
    "\n",
    "for layer in model.get_layer(\"inception_v3\").layers[-45:]: #poi -65\n",
    "    layer.trainable = True\n",
    "\n",
    "model.compile(\n",
    "optimizer=tf.keras.optimizers.Adam(learning_rate=5e-5), #poi 1e-5\n",
    "loss='binary_crossentropy',\n",
    "metrics=[\n",
    "    'accuracy',\n",
    "    tf.keras.metrics.AUC(name='auc'),\n",
    "    tf.keras.metrics.Precision(name='precision'),\n",
    "    tf.keras.metrics.Recall(name='recall'),\n",
    "    tf.keras.metrics.F1Score(name='f1-score')\n",
    "  ]\n",
    ")"
   ]
  },
  {
   "cell_type": "code",
   "execution_count": null,
   "metadata": {
    "id": "OlKWaJHNhy0A"
   },
   "outputs": [],
   "source": [
    "model = tf.keras.models.load_model(mydir+\"efficientNetB3.keras\")\n",
    "\n",
    "for layer in model.get_layer(\"efficientnetb3\").layers[-60:]: #poi -80\n",
    "    layer.trainable = True\n",
    "\n",
    "model.compile(\n",
    "optimizer=tf.keras.optimizers.Adam(learning_rate=5e-5), #poi 1e-5\n",
    "loss='binary_crossentropy',\n",
    "metrics=[\n",
    "    'accuracy',\n",
    "    tf.keras.metrics.AUC(name='auc'),\n",
    "    tf.keras.metrics.Precision(name='precision'),\n",
    "    tf.keras.metrics.Recall(name='recall'),\n",
    "    tf.keras.metrics.F1Score(name='f1-score')\n",
    "  ]\n",
    ")"
   ]
  },
  {
   "cell_type": "markdown",
   "metadata": {},
   "source": [
    "## Caricamento del dataset"
   ]
  },
  {
   "cell_type": "code",
   "execution_count": null,
   "metadata": {
    "id": "5JQH7brJxrBz"
   },
   "outputs": [],
   "source": [
    "import pandas as pd\n",
    "\n",
    "train = pd.read_csv(mydir+\"final/train.csv\")\n",
    "val = pd.read_csv(mydir+\"final/val.csv\")\n",
    "test = pd.read_csv(mydir+\"final/test.csv\")\n",
    "\n",
    "image_dir = mydir+\"final/\""
   ]
  },
  {
   "cell_type": "markdown",
   "metadata": {},
   "source": [
    "## Funzione di parsing modificata a seconda del modello"
   ]
  },
  {
   "cell_type": "code",
   "execution_count": null,
   "metadata": {
    "id": "L4TkUzipyiRi"
   },
   "outputs": [],
   "source": [
    "import numpy as np\n",
    "\n",
    "def parse_function(image_path, label):\n",
    "    image = tf.io.read_file(image_path+\".png\")\n",
    "    image = tf.image.decode_png(image, channels=3)\n",
    "    \n",
    "    # Efficient Net non vuole [0, 255]\n",
    "    # Inception vuole [-1, 1]\n",
    "\n",
    "    image = tf.cast(image, tf.float32) / 255.0  # normalizzazione\n",
    "    #image = (image / 127.5) - 1.0\n",
    "    \n",
    "    image.set_shape([299, 299, 3])\n",
    "\n",
    "    label = tf.cast(label, tf.float32)\n",
    "    label = tf.expand_dims(label, axis=-1)\n",
    "\n",
    "    return image, label"
   ]
  },
  {
   "cell_type": "code",
   "execution_count": null,
   "metadata": {
    "id": "AdOW8asMx-Ul"
   },
   "outputs": [],
   "source": [
    "batch = 32"
   ]
  },
  {
   "cell_type": "markdown",
   "metadata": {},
   "source": [
    "## Train set"
   ]
  },
  {
   "cell_type": "code",
   "execution_count": null,
   "metadata": {
    "colab": {
     "base_uri": "https://localhost:8080/"
    },
    "id": "KIvyQNt6YtBz",
    "outputId": "68e475e0-f5c4-4d82-8601-312a446b98fe"
   },
   "outputs": [
    {
     "name": "stdout",
     "output_type": "stream",
     "text": [
      "7908\n"
     ]
    }
   ],
   "source": [
    "import os\n",
    "image_dir = mydir+\"final/\"\n",
    "\n",
    "# Prepara le liste separate\n",
    "image_paths = [os.path.join(image_dir, item[0]) for item in train.values]\n",
    "labels = [item[1] for item in train.values]\n",
    "\n",
    "print(len(image_paths))\n",
    "\n",
    "df = tf.data.Dataset.from_tensor_slices((image_paths, labels))\n",
    "train_set = df.map(parse_function, num_parallel_calls=tf.data.AUTOTUNE)\n",
    "train_set = train_set.shuffle(buffer_size=100).batch(batch).prefetch(tf.data.AUTOTUNE)"
   ]
  },
  {
   "cell_type": "markdown",
   "metadata": {},
   "source": [
    "## Validation set"
   ]
  },
  {
   "cell_type": "code",
   "execution_count": null,
   "metadata": {
    "colab": {
     "base_uri": "https://localhost:8080/"
    },
    "id": "5Kj54rm5yTWg",
    "outputId": "f20fd2e9-9286-44cc-cd86-dd7764ac8d6f"
   },
   "outputs": [
    {
     "name": "stdout",
     "output_type": "stream",
     "text": [
      "988\n"
     ]
    }
   ],
   "source": [
    "image_paths = [os.path.join(image_dir, item[0]) for item in val.values]\n",
    "labels = [item[1] for item in val.values]\n",
    "\n",
    "print(len(image_paths))\n",
    "\n",
    "df = tf.data.Dataset.from_tensor_slices((image_paths, labels))\n",
    "val_set = df.map(parse_function)\n",
    "val_set = val_set.cache().batch(batch).prefetch(tf.data.AUTOTUNE)"
   ]
  },
  {
   "cell_type": "markdown",
   "metadata": {},
   "source": [
    "## Test set"
   ]
  },
  {
   "cell_type": "code",
   "execution_count": null,
   "metadata": {
    "colab": {
     "base_uri": "https://localhost:8080/"
    },
    "id": "0f2LfRyzXXdp",
    "outputId": "8a84901d-06d9-4092-e452-5cf328aa70f5"
   },
   "outputs": [
    {
     "name": "stdout",
     "output_type": "stream",
     "text": [
      "989\n"
     ]
    }
   ],
   "source": [
    "image_paths = [os.path.join(image_dir, item[0]) for item in test.values]\n",
    "labels = [item[1] for item in test.values]\n",
    "\n",
    "print(len(image_paths))\n",
    "\n",
    "df = tf.data.Dataset.from_tensor_slices((image_paths, labels))\n",
    "test_set = df.map(parse_function, num_parallel_calls=tf.data.AUTOTUNE)\n",
    "test_set = test_set.shuffle(buffer_size=100).batch(batch).prefetch(tf.data.AUTOTUNE)"
   ]
  },
  {
   "cell_type": "markdown",
   "metadata": {},
   "source": [
    "## Calcolo i pesi per la weigthed loss"
   ]
  },
  {
   "cell_type": "code",
   "execution_count": null,
   "metadata": {
    "colab": {
     "base_uri": "https://localhost:8080/"
    },
    "id": "BiEzOMKsC2X6",
    "outputId": "c82aa362-1cdc-4a25-b9f7-9e3ed7b0f1a3"
   },
   "outputs": [
    {
     "data": {
      "text/plain": [
       "{0: np.float64(0.6135235732009926), 1: np.float64(2.702185792349727)}"
      ]
     },
     "execution_count": 224,
     "metadata": {},
     "output_type": "execute_result"
    }
   ],
   "source": [
    "from sklearn.utils.class_weight import compute_class_weight\n",
    "\n",
    "class_weights = compute_class_weight(\n",
    "    class_weight=\"balanced\",\n",
    "    classes=np.unique(labels),\n",
    "    y=labels\n",
    ")\n",
    "class_weights = dict(enumerate(class_weights))\n",
    "class_weights"
   ]
  },
  {
   "cell_type": "markdown",
   "metadata": {},
   "source": [
    "## (Opzionale) salvo checkpoint del modello"
   ]
  },
  {
   "cell_type": "code",
   "execution_count": null,
   "metadata": {
    "id": "eLgYZILLE07i"
   },
   "outputs": [],
   "source": [
    "from tensorflow.keras.callbacks import ModelCheckpoint\n",
    "\n",
    "checkpoint = ModelCheckpoint(\n",
    "    filepath=mydir+\"InceptionTemp.keras\",\n",
    "    monitor=\"val_auc\",\n",
    "    mode=\"max\",\n",
    "    save_best_only=True,\n",
    "    verbose=1\n",
    ")\n",
    "\n",
    "my_callbacks = [\n",
    "  tf.keras.callbacks.TensorBoard(log_dir=mydir+\"./logs\"),\n",
    "  checkpoint\n",
    "]"
   ]
  },
  {
   "cell_type": "markdown",
   "metadata": {},
   "source": [
    "## Training"
   ]
  },
  {
   "cell_type": "code",
   "execution_count": null,
   "metadata": {
    "colab": {
     "background_save": true
    },
    "id": "t6WRE-n1zXp4"
   },
   "outputs": [],
   "source": [
    "history = model.fit(train_set,\n",
    "                    epochs=10,\n",
    "                    validation_data = val_set,\n",
    "                    callbacks = my_callbacks,\n",
    "                    class_weight=class_weights\n",
    "                    )"
   ]
  },
  {
   "cell_type": "code",
   "execution_count": null,
   "metadata": {
    "colab": {
     "background_save": true
    },
    "id": "Y98TmFMCp5n7"
   },
   "outputs": [],
   "source": [
    "model.save(mydir+\"Inception.keras\")"
   ]
  },
  {
   "cell_type": "markdown",
   "metadata": {},
   "source": [
    "## Evaluation su test set"
   ]
  },
  {
   "cell_type": "code",
   "execution_count": null,
   "metadata": {},
   "outputs": [],
   "source": [
    "model.evaluate(test_set)"
   ]
  },
  {
   "cell_type": "markdown",
   "metadata": {},
   "source": [
    "## Salvo ogni 10 epoch la history"
   ]
  },
  {
   "cell_type": "code",
   "execution_count": null,
   "metadata": {
    "id": "jRDZ3Yrjl-6P"
   },
   "outputs": [],
   "source": [
    "import json\n",
    "\n",
    "with open(mydir+'Z10.json', 'w') as f:\n",
    "    json.dump(history.history, f)"
   ]
  },
  {
   "cell_type": "markdown",
   "metadata": {},
   "source": [
    "## Ricarico e unisco le history alla fine di tutto il training per stampare il grafico"
   ]
  },
  {
   "cell_type": "code",
   "execution_count": null,
   "metadata": {
    "id": "DZeOzkUQ5os5"
   },
   "outputs": [],
   "source": [
    "from re import M\n",
    "import json\n",
    "import pandas as pd\n",
    "\n",
    "name = \"Z\"\n",
    "name = mydir + name\n",
    "\n",
    "with open(name + \"10.json\", \"r\") as f:\n",
    "    h10 = json.load(f)\n",
    "with open(name + \"20.json\", \"r\") as f:\n",
    "    h20 = json.load(f)\n",
    "with open(name + \"25.json\", \"r\") as f:\n",
    "    h25 = json.load(f)\n",
    "\n",
    "dfs = [pd.DataFrame(h10), pd.DataFrame(h20), pd.DataFrame(h25)]\n",
    "df_total = pd.concat(dfs, ignore_index=True)"
   ]
  },
  {
   "cell_type": "code",
   "execution_count": null,
   "metadata": {
    "colab": {
     "base_uri": "https://localhost:8080/",
     "height": 507
    },
    "id": "P7HILs419R5J",
    "outputId": "2b81b5ac-2db7-499f-945e-8d9a5441c847"
   },
   "outputs": [],
   "source": [
    "plt.figure(figsize=(12,5))\n",
    "\n",
    "plt.subplot(1, 2, 1)\n",
    "plt.plot(df_total['accuracy'], label='acc')\n",
    "plt.plot(df_total['auc'], label='AUC')\n",
    "plt.plot(df_total['recall'], label='recall')\n",
    "plt.plot(df_total['precision'], label='precision')\n",
    "plt.plot(df_total['f1-score'], label='f1-score')\n",
    "plt.legend()\n",
    "plt.ylim(0, 1)\n",
    "plt.yticks(np.arange(0, 1.1, 0.1))\n",
    "plt.xlabel('Epoch')\n",
    "plt.grid()\n",
    "\n",
    "plt.subplot(1, 2, 2)\n",
    "plt.plot(df_total['val_accuracy'], label='val acc')\n",
    "plt.plot(df_total['val_auc'], label='val AUC')\n",
    "plt.plot(df_total['val_recall'], label='val recall')\n",
    "plt.plot(df_total['val_precision'], label='val precision')\n",
    "plt.plot(df_total['val_f1-score'], label='val f1-score')\n",
    "plt.legend()\n",
    "plt.ylim(0, 1)\n",
    "plt.yticks(np.arange(0, 1.1, 0.1))\n",
    "plt.xlabel('Epoch')\n",
    "plt.grid()\n",
    "\n",
    "plt.tight_layout()\n",
    "plt.show()"
   ]
  },
  {
   "cell_type": "markdown",
   "metadata": {},
   "source": [
    "## Confusion matrix"
   ]
  },
  {
   "cell_type": "code",
   "execution_count": null,
   "metadata": {
    "colab": {
     "base_uri": "https://localhost:8080/",
     "height": 466
    },
    "id": "_Wei0tjWmk9n",
    "outputId": "f9b8dc85-8840-46d2-c0c2-6bcf2258e89c"
   },
   "outputs": [],
   "source": [
    "import numpy as np\n",
    "import tensorflow as tf\n",
    "import matplotlib.pyplot as plt\n",
    "from sklearn.metrics import confusion_matrix, ConfusionMatrixDisplay\n",
    "import pandas as pd\n",
    "import os\n",
    "\n",
    "test = pd.read_csv(mydir+\"final/test.csv\")\n",
    "image_dir = mydir+\"final/\"\n",
    "\n",
    "image_paths = [os.path.join(image_dir, item[0]) for item in test.values]\n",
    "labels = [item[1] for item in test.values]\n",
    "\n",
    "# Creazione test set\n",
    "X_test = np.array([parse_function(p).numpy() for p in image_paths])\n",
    "y_test = np.array(labels)\n",
    "\n",
    "# Predizioni del modello\n",
    "y_pred_probs = model.predict(X_test)\n",
    "y_pred = (y_pred_probs >= 0.5).astype(int)\n",
    "\n",
    "# Confusion matrix\n",
    "cm = confusion_matrix(y_test, y_pred)\n",
    "\n",
    "# Visualizzazione\n",
    "disp = ConfusionMatrixDisplay(confusion_matrix=cm)\n",
    "disp.plot(cmap=plt.cm.Blues, values_format=\"d\")\n",
    "plt.show()"
   ]
  },
  {
   "cell_type": "markdown",
   "metadata": {},
   "source": [
    "## Esperimenti e predizioni di esempio"
   ]
  },
  {
   "cell_type": "code",
   "execution_count": null,
   "metadata": {
    "id": "8dZCC6zzgs2D"
   },
   "outputs": [],
   "source": [
    "def print_image(img):\n",
    "    img = img[0, :, :, :]\n",
    "    \n",
    "    # In base al modello che utilizzo\n",
    "    #img = (img + 1) / 2.0\n",
    "    #img = img / 255.0\n",
    "\n",
    "    width, height = img.shape[:2]\n",
    "\n",
    "    fig, ax = plt.subplots(1)\n",
    "    ax.imshow(img)\n",
    "\n",
    "    plt.show()\n",
    "    return\n",
    "\n",
    "def parse_function(image_path, label):\n",
    "    image = tf.io.read_file(image_path+\".png\")\n",
    "    image = tf.image.decode_png(image, channels=3)\n",
    "    \n",
    "    # Efficient Net non vuole [0, 255]\n",
    "    # Inception vuole [-1, 1]\n",
    "\n",
    "    image = tf.cast(image, tf.float32) / 255.0  # normalizzazione\n",
    "    #image = (image / 127.5) - 1.0\n",
    "    \n",
    "    image.set_shape([299, 299, 3])\n",
    "\n",
    "    label = tf.cast(label, tf.float32)\n",
    "    label = tf.expand_dims(label, axis=-1)\n",
    "\n",
    "    return image, label"
   ]
  },
  {
   "cell_type": "code",
   "execution_count": null,
   "metadata": {
    "id": "QKeaUpwtzXt3"
   },
   "outputs": [],
   "source": [
    "import pandas as pd\n",
    "import os\n",
    "\n",
    "test = pd.read_csv(mydir+\"final/test.csv\")\n",
    "image_dir = mydir+\"final/\"\n",
    "\n",
    "image_paths = [os.path.join(image_dir, item[0]) for item in test.values]\n",
    "labels = [item[1] for item in test.values]"
   ]
  },
  {
   "cell_type": "code",
   "execution_count": null,
   "metadata": {
    "id": "_dJ1I165BFWv"
   },
   "outputs": [],
   "source": [
    "import random\n",
    "\n",
    "idx = random.randint(0, 987)\n",
    "image, true_class = parse_function(image_paths[idx], labels[idx])\n",
    "image = tf.expand_dims(image, axis=0)"
   ]
  },
  {
   "cell_type": "markdown",
   "metadata": {},
   "source": [
    "## Predizioni di esempio su test set"
   ]
  },
  {
   "cell_type": "code",
   "execution_count": null,
   "metadata": {
    "colab": {
     "base_uri": "https://localhost:8080/",
     "height": 487
    },
    "id": "IZKUuc6HgYr_",
    "outputId": "4b6eb171-b86f-4fb9-85f5-e5be06e56cb1"
   },
   "outputs": [],
   "source": [
    "preds = model.predict(image)\n",
    "\n",
    "# Estrai i risultati\n",
    "pred_class = preds[0][0]\n",
    "print(true_class.numpy())\n",
    "print(pred_class)\n",
    "print_image(image)"
   ]
  },
  {
   "cell_type": "markdown",
   "metadata": {},
   "source": [
    "## Dall'immagine selezionata prima randomicamente visualizzo la occlusion map"
   ]
  },
  {
   "cell_type": "code",
   "execution_count": null,
   "metadata": {
    "colab": {
     "base_uri": "https://localhost:8080/",
     "height": 435
    },
    "id": "WBHu8LePf9Ov",
    "outputId": "9aa54d49-62bb-49c3-eb70-6c43c3ff3a6b"
   },
   "outputs": [
    {
     "data": {
      "image/png": "[encoded data removed]",
      "text/plain": [
       "<Figure size 640x480 with 2 Axes>"
      ]
     },
     "metadata": {},
     "output_type": "display_data"
    }
   ],
   "source": [
    "def occlusion_map(model, img, patch_size=20):\n",
    "    img = np.array(img)\n",
    "    h, w, _ = img.shape[1:]\n",
    "    heatmap = np.zeros((h, w))\n",
    "    baseline_pred = model.predict(img, verbose=0)[0,0]  # prob classe positiva\n",
    "\n",
    "    for i in range(0, h, patch_size):\n",
    "        for j in range(0, w, patch_size):\n",
    "            occluded = img.copy()\n",
    "            occluded[0, i:i+patch_size, j:j+patch_size, :] = 0  # metti nero\n",
    "            pred = model.predict(occluded, verbose=0)[0,0]\n",
    "            heatmap[i:i+patch_size, j:j+patch_size] = baseline_pred - pred\n",
    "\n",
    "    return heatmap\n",
    "\n",
    "heatmap = occlusion_map(model, image)\n",
    "heatmap_abs = np.abs(heatmap)\n",
    "plt.imshow(heatmap_abs, cmap='seismic')\n",
    "plt.colorbar()\n",
    "plt.show()"
   ]
  }
 ],
 "metadata": {
  "accelerator": "GPU",
  "colab": {
   "gpuType": "T4",
   "provenance": []
  },
  "kernelspec": {
   "display_name": "Python 3 (ipykernel)",
   "language": "python",
   "name": "python3"
  },
  "language_info": {
   "codemirror_mode": {
    "name": "ipython",
    "version": 3
   },
   "file_extension": ".py",
   "mimetype": "text/x-python",
   "name": "python",
   "nbconvert_exporter": "python",
   "pygments_lexer": "ipython3",
   "version": "3.9.7"
  }
 },
 "nbformat": 4,
 "nbformat_minor": 1
}
